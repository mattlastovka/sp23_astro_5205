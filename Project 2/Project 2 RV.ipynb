{
 "cells": [
  {
   "cell_type": "code",
   "execution_count": 1,
   "id": "43f6acb3",
   "metadata": {},
   "outputs": [],
   "source": [
    "import matplotlib.pyplot as plt\n",
    "import numpy as np\n",
    "import astropy.io.ascii\n",
    "import pandas as pd\n",
    "%matplotlib inline"
   ]
  },
  {
   "cell_type": "markdown",
   "id": "ab70acc7",
   "metadata": {},
   "source": [
    "# Planet: HD 189733b\n",
    "\n",
    "### Goal: Measure planet mass based on radial velocity data\n",
    "\n",
    "##### Cassie Moats"
   ]
  },
  {
   "cell_type": "markdown",
   "id": "2b091a2d",
   "metadata": {},
   "source": [
    "I first import the radial velocity data for our selected exoplanet. "
   ]
  },
  {
   "cell_type": "code",
   "execution_count": 2,
   "id": "7ecba572",
   "metadata": {},
   "outputs": [
    {
     "data": {
      "text/html": [
       "<div>\n",
       "<style scoped>\n",
       "    .dataframe tbody tr th:only-of-type {\n",
       "        vertical-align: middle;\n",
       "    }\n",
       "\n",
       "    .dataframe tbody tr th {\n",
       "        vertical-align: top;\n",
       "    }\n",
       "\n",
       "    .dataframe thead th {\n",
       "        text-align: right;\n",
       "    }\n",
       "</style>\n",
       "<table border=\"1\" class=\"dataframe\">\n",
       "  <thead>\n",
       "    <tr style=\"text-align: right;\">\n",
       "      <th></th>\n",
       "      <th>JD</th>\n",
       "      <th>Radial_Velocity</th>\n",
       "      <th>Radial_Velocity_Uncertainty</th>\n",
       "    </tr>\n",
       "  </thead>\n",
       "  <tbody>\n",
       "    <tr>\n",
       "      <th>0</th>\n",
       "      <td>2.452833e+06</td>\n",
       "      <td>-13.964</td>\n",
       "      <td>1.542</td>\n",
       "    </tr>\n",
       "    <tr>\n",
       "      <th>1</th>\n",
       "      <td>2.452899e+06</td>\n",
       "      <td>186.717</td>\n",
       "      <td>1.480</td>\n",
       "    </tr>\n",
       "    <tr>\n",
       "      <th>2</th>\n",
       "      <td>2.453181e+06</td>\n",
       "      <td>153.226</td>\n",
       "      <td>1.609</td>\n",
       "    </tr>\n",
       "    <tr>\n",
       "      <th>3</th>\n",
       "      <td>2.453241e+06</td>\n",
       "      <td>121.542</td>\n",
       "      <td>1.139</td>\n",
       "    </tr>\n",
       "    <tr>\n",
       "      <th>4</th>\n",
       "      <td>2.453304e+06</td>\n",
       "      <td>-202.928</td>\n",
       "      <td>1.244</td>\n",
       "    </tr>\n",
       "  </tbody>\n",
       "</table>\n",
       "</div>"
      ],
      "text/plain": [
       "             JD  Radial_Velocity  Radial_Velocity_Uncertainty\n",
       "0  2.452833e+06          -13.964                        1.542\n",
       "1  2.452899e+06          186.717                        1.480\n",
       "2  2.453181e+06          153.226                        1.609\n",
       "3  2.453241e+06          121.542                        1.139\n",
       "4  2.453304e+06         -202.928                        1.244"
      ]
     },
     "execution_count": 2,
     "metadata": {},
     "output_type": "execute_result"
    }
   ],
   "source": [
    "fname = 'UID_0098505_RVC_002.txt'\n",
    "\n",
    "rvdat = pd.read_csv(fname,delimiter=\"\\s+\",comment='#')\n",
    "\n",
    "rvdat.head() # units are days, m/s, m/s"
   ]
  },
  {
   "cell_type": "markdown",
   "id": "d86b34a0",
   "metadata": {},
   "source": [
    "Next, I plot the radial velocity versus the time in Julian Days."
   ]
  },
  {
   "cell_type": "code",
   "execution_count": 3,
   "id": "ef744084",
   "metadata": {},
   "outputs": [
    {
     "data": {
      "text/plain": [
       "[Text(0.5, 0, 'Time (Jovian Days)'), Text(0, 0.5, 'Radial Velocity (m/s)')]"
      ]
     },
     "execution_count": 3,
     "metadata": {},
     "output_type": "execute_result"
    },
    {
     "data": {
      "image/png": "[encoded data removed]",
      "text/plain": [
       "<Figure size 640x480 with 1 Axes>"
      ]
     },
     "metadata": {},
     "output_type": "display_data"
    }
   ],
   "source": [
    "fig, ax = plt.subplots()\n",
    "ax.scatter(rvdat[\"JD\"], rvdat[\"Radial_Velocity\"])\n",
    "\n",
    "ax.set(xlabel=(\"Time (Jovian Days)\"),\n",
    "    ylabel=(\"Radial Velocity (m/s)\"))"
   ]
  },
  {
   "cell_type": "markdown",
   "id": "1e28654d",
   "metadata": {},
   "source": [
    "Next, I noted the equations of the sample code. These equations are:\n",
    "\n",
    "$$v_r = V_Z + K(cos(\\omega + f)+ e cos(\\omega))$$\n",
    "\n",
    "with $$K = {\\frac {m_2}{m_1 + m_2}} {\\frac{nasin(i)}{\\sqrt{{(1-e^2)}}}}$$ and $$n = {\\frac{2\\pi}{T}}$$\n",
    "\n",
    "where T comes from Kepler's 3rd, $${\\frac{a^3}{T^2}}={\\frac{G(M+m)}{4\\pi^2}}$$ so the period is $$T = \\sqrt{\\frac{a^3*4\\pi^2}{G(M+m)}}$$\n",
    "\n",
    "f is calculated using $$2*arctan[{\\frac{1+e}{1-e}}^.5*tan({\\frac{E}{2}})]$$\n",
    "\n",
    "where E is calcuated with eccentricity e not equal to 0 to be:\n",
    "\n",
    "$$ n(t-t_0) = E-e*sin(E)$$"
   ]
  },
  {
   "cell_type": "markdown",
   "id": "410ce6bc",
   "metadata": {},
   "source": [
    "### Used the EXOFAST fit for the RV data in conjunction with values from the planet factsheet for the metalicity values\n",
    "\n",
    "that link is https://exoplanetarchive.ipac.caltech.edu/overview/HD%20189733%20b#planet_HD-189733-b_collapsible"
   ]
  },
  {
   "cell_type": "markdown",
   "id": "851e0d4d",
   "metadata": {},
   "source": [
    "Did the EXOFAST run for Chi Squared and followed the instructions through to then do the EXOFAST MCMB."
   ]
  },
  {
   "cell_type": "markdown",
   "id": "efd9c0c2",
   "metadata": {},
   "source": [
    "From EXOFAST calculation, the minimum mass is given as Mp sin(i) = Minimum Mass = 1.175263 $M_J$ with errorup = +0.039145  and errordown = -0.040110 with rounding this gives Minimum mass = 1.18 ± 0.04 $M_J$.\n",
    "\n"
   ]
  },
  {
   "cell_type": "code",
   "execution_count": 41,
   "id": "0cf596e2",
   "metadata": {},
   "outputs": [
    {
     "name": "stdout",
     "output_type": "stream",
     "text": [
      "0.8472318708227918\n"
     ]
    }
   ],
   "source": [
    "MJ = 1.899e+30 # g\n",
    "RJ = 7.1492e+9 # cm\n",
    "def density(mass,radius):\n",
    "    density = 3*(mass*MJ)/((4)*(np.pi)*((radius*RJ)**3))\n",
    "    return density\n",
    "density_p = density(1.18,1.2)\n",
    "print(density_p)"
   ]
  },
  {
   "cell_type": "code",
   "execution_count": 33,
   "id": "8a9e2083",
   "metadata": {},
   "outputs": [
    {
     "name": "stdout",
     "output_type": "stream",
     "text": [
      "0.058584981010494495\n"
     ]
    }
   ],
   "source": [
    "# now to propogate this error\n",
    "\n",
    "# dq/q = ((dx/x)^2+(dy/y)^2)^(1/2)\n",
    "\n",
    "density_err = ((0.04)**2+(0.02)**2)**(1/2)\n",
    "print(density_err*1.31)"
   ]
  },
  {
   "cell_type": "markdown",
   "id": "22decf62",
   "metadata": {},
   "source": [
    "So, HD 189733b's density is ${\\rho}$ = 0.847 ± 0.06 $\\frac{g}{cm^3}$ and HD 189733b's mass is 1.18 ± 0.04 $M_J$."
   ]
  }
 ],
 "metadata": {
  "kernelspec": {
   "display_name": "Python 3 (ipykernel)",
   "language": "python",
   "name": "python3"
  },
  "language_info": {
   "codemirror_mode": {
    "name": "ipython",
    "version": 3
   },
   "file_extension": ".py",
   "mimetype": "text/x-python",
   "name": "python",
   "nbconvert_exporter": "python",
   "pygments_lexer": "ipython3",
   "version": "3.9.13"
  }
 },
 "nbformat": 4,
 "nbformat_minor": 5
}
